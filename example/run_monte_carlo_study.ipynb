{
 "cells": [
  {
   "cell_type": "code",
   "execution_count": 1,
   "metadata": {},
   "outputs": [],
   "source": [
    "from datetime import datetime\n",
    "\n",
    "from example.monte_carlo_simulation_setup import run_study"
   ]
  },
  {
   "cell_type": "code",
   "execution_count": 2,
   "metadata": {},
   "outputs": [
    {
     "name": "stdout",
     "output_type": "stream",
     "text": [
      "Total simulations: 400. Estimated time: 10 minutes.\n",
      "1/1 RUNNING studies for volatility_factor=1.0, borrower_demand=0.7, loan_start='parabolic', loan_duration='parabolic'\n",
      "1/1: Running study for max_ltv=0.65, fee_model='bsm' with 400 seeds\n",
      "Saved example/outputs/vol_1_00_demand_0_70_start_parabolic_duration_parabolic/cora_maxltv_0_65_feemodel_bsm_n_400_s_87651.csv\n"
     ]
    }
   ],
   "source": [
    "run_study(\n",
    "    max_ltv_options=[0.65],\n",
    "    fee_options=\"bsm\",\n",
    "    borrower_demand_options=[0.7],\n",
    "    volatility_factor_options=[1.0],\n",
    "    loan_start_options=[\"parabolic\"],\n",
    "    loan_duration_options=[\"parabolic\"],\n",
    "    start_time=datetime(2022, 9, 26),\n",
    "    num_seeds=400,\n",
    "    zero_mu=True,\n",
    "    pass_if_exists=False,\n",
    "    compress_to_zip=False,\n",
    "    save_folder=\"example/outputs/monte_carlo\",\n",
    "    base_seed=87651,\n",
    ")"
   ]
  }
 ],
 "metadata": {
  "kernelspec": {
   "display_name": "Python 3.9.13 ('cora-simulator-xnZT5TDi')",
   "language": "python",
   "name": "python3"
  },
  "language_info": {
   "codemirror_mode": {
    "name": "ipython",
    "version": 3
   },
   "file_extension": ".py",
   "mimetype": "text/x-python",
   "name": "python",
   "nbconvert_exporter": "python",
   "pygments_lexer": "ipython3",
   "version": "3.9.13"
  },
  "orig_nbformat": 4,
  "vscode": {
   "interpreter": {
    "hash": "81d42429d8f19dafd2cb6bb8eaf6d860bc30a667db05d1d3329398db3830c5fa"
   }
  }
 },
 "nbformat": 4,
 "nbformat_minor": 2
}
