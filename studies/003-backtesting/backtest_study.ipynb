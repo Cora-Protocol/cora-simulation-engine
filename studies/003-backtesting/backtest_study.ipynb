{
 "cells": [
  {
   "cell_type": "code",
   "execution_count": null,
   "metadata": {},
   "outputs": [],
   "source": [
    "from generate_study_backtesting import generate_study, BacktestingPoint\n",
    "import matplotlib.pyplot as plt\n",
    "from pathlib import Path\n",
    "\n",
    "# What do you want to run?\n",
    "start_type = \"triangular\"\n",
    "duration_type = \"parabolic\"\n",
    "\n",
    "num_start_times = 60\n",
    "max_ltv_options = [0.3, 0.4, 0.5, 0.6, 0.65, 0.7, 0.75, 0.8, 0.85, 0.9]\n",
    "utilization_param_options = [0.1, 0.3, 0.5, 0.7, 0.9, 1.1, 1.3, 1.5, 1.7, 1.9, 2.1, 2.3, 2.5]\n",
    "\n",
    "folder = f\"studies/003-backtesting/start_{start_type}_duration_{duration_type}/\"\n",
    "Path(folder).mkdir(parents=True, exist_ok=True)"
   ]
  },
  {
   "cell_type": "markdown",
   "metadata": {},
   "source": [
    "### Black Scholes"
   ]
  },
  {
   "cell_type": "code",
   "execution_count": null,
   "metadata": {},
   "outputs": [],
   "source": [
    "for max_ltv in max_ltv_options[::-1]:\n",
    "    for up in utilization_param_options:\n",
    "        try:\n",
    "            name = folder + f\"backtest_BSM_ltv{str(max_ltv).replace('.', '_')}_up{str(up).replace('.', '_')}_x{num_start_times}.csv\"\n",
    "            if Path(name).exists():\n",
    "                print(f\"{name} already exists, skipping\")\n",
    "                continue\n",
    "\n",
    "            print(f\"Starting with ltv {max_ltv} up {up}\")\n",
    "            study_results = generate_study(\n",
    "                ltv=max_ltv,\n",
    "                fee_model=\"black_scholes\",\n",
    "                fee_model_update_params={\"lookback_days\": 365, \"volatility_factor\": 1.0},\n",
    "                utilization_param_array = [up],\n",
    "                loan_start_type_options = [start_type],\n",
    "                loan_duration_type_options = [duration_type],\n",
    "                num_start_times = num_start_times,\n",
    "                random_seed = 0,\n",
    "            )\n",
    "            study_results.to_csv(name)\n",
    "            print(f\"Done with ltv {max_ltv} up {up}\")\n",
    "        except Exception as e:\n",
    "            print(f\"LTV {max_ltv} , UP {up} failed: {e}, {e.args}\")"
   ]
  },
  {
   "cell_type": "markdown",
   "metadata": {},
   "source": [
    "### Black Scholes combined with traditional"
   ]
  },
  {
   "cell_type": "code",
   "execution_count": null,
   "metadata": {},
   "outputs": [],
   "source": [
    "for max_ltv in max_ltv_options[::-1]:\n",
    "    for up in utilization_param_options:\n",
    "        try:\n",
    "            name = folder + f\"backtest_combined_ltv{str(max_ltv).replace('.', '_')}_up{str(up).replace('.', '_')}_x{num_start_times}.csv\"\n",
    "            if Path(name).exists():\n",
    "                continue\n",
    "\n",
    "            print(f\"Starting with ltv {max_ltv} up {up}\")\n",
    "            study_results = generate_study(\n",
    "                ltv=max_ltv,\n",
    "                fee_model=\"combined_bsm_traditional\",\n",
    "                fee_model_update_params={\n",
    "                    \"lookback_days\": 365,\n",
    "                    \"volatility_factor\": 1.0,\n",
    "                    \"optimal_utilization\": 0.8,\n",
    "                    \"base_rate\": 0.01,\n",
    "                    \"rate_slope_1\": 0.005,\n",
    "                    \"rate_slope_2\": 0.75,\n",
    "                },\n",
    "                utilization_param_array = [up],\n",
    "                loan_start_type_options = [start_type],\n",
    "                loan_duration_type_options = [duration_type],\n",
    "                num_start_times=num_start_times,\n",
    "                random_seed=0,\n",
    "            )\n",
    "            study_results.to_csv(name)\n",
    "            print(f\"Done with ltv {max_ltv} up {up}\")\n",
    "        except Exception as e:\n",
    "            print(f\"LTV {max_ltv} , UP {up} failed: {e}, {e.args}\")"
   ]
  },
  {
   "cell_type": "markdown",
   "metadata": {},
   "source": [
    "### Black Scholes sum with traditional"
   ]
  },
  {
   "cell_type": "code",
   "execution_count": null,
   "metadata": {},
   "outputs": [],
   "source": [
    "for max_ltv in max_ltv_options[::-1]:\n",
    "    for up in utilization_param_options:\n",
    "        try:\n",
    "            name = folder + f\"backtest_sum_ltv{str(max_ltv).replace('.', '_')}_up{str(up).replace('.', '_')}_x{num_start_times}.csv\"\n",
    "            if Path(name).exists():\n",
    "                continue\n",
    "\n",
    "            print(f\"Starting with ltv {max_ltv} up {up}\")\n",
    "            study_results = generate_study(\n",
    "                ltv=max_ltv,\n",
    "                fee_model=\"sum_bsm_traditional\",\n",
    "                fee_model_update_params={\n",
    "                    \"lookback_days\": 365,\n",
    "                    \"volatility_factor\": 1.0,\n",
    "                    \"optimal_utilization\": 0.8,\n",
    "                    \"base_rate\": 0.01,\n",
    "                    \"rate_slope_1\": 0.005,\n",
    "                    \"rate_slope_2\": 0.75,\n",
    "                },\n",
    "                utilization_param_array = [up],\n",
    "                loan_start_type_options = [start_type],\n",
    "                loan_duration_type_options = [duration_type],\n",
    "                num_start_times=num_start_times,\n",
    "                random_seed=0,\n",
    "            )\n",
    "            study_results.to_csv(name)\n",
    "            print(f\"Done with ltv {max_ltv} up {up}\")\n",
    "        except Exception as e:\n",
    "            print(f\"LTV {max_ltv} , UP {up} failed: {e}, {e.args}\")"
   ]
  },
  {
   "cell_type": "markdown",
   "metadata": {},
   "source": [
    "### Traditional"
   ]
  },
  {
   "cell_type": "code",
   "execution_count": null,
   "metadata": {},
   "outputs": [],
   "source": [
    "for max_ltv in max_ltv_options[::-1]:\n",
    "    for up in utilization_param_options:\n",
    "        try:\n",
    "            name = folder + f\"backtest_aave_ltv{str(max_ltv).replace('.', '_')}_up{str(up).replace('.', '_')}_x{num_start_times}.csv\"\n",
    "            if Path(name).exists():\n",
    "                continue\n",
    "\n",
    "            print(f\"Starting with ltv {max_ltv} up {up}\")\n",
    "            study_results = generate_study(\n",
    "                ltv=max_ltv,\n",
    "                fee_model=\"traditional\",\n",
    "                fee_model_update_params={\n",
    "                    \"optimal_utilization\": 0.8,\n",
    "                    \"base_rate\": 0.01,\n",
    "                    \"rate_slope_1\": 0.005,\n",
    "                    \"rate_slope_2\": 0.75,\n",
    "                },\n",
    "                utilization_param_array = [up],\n",
    "                loan_start_type_options = [start_type],\n",
    "                loan_duration_type_options = [duration_type],\n",
    "                num_start_times=num_start_times,\n",
    "                random_seed=0,\n",
    "            )\n",
    "            study_results.to_csv(name)\n",
    "            print(f\"Done with ltv {max_ltv} up {up}\")\n",
    "        except Exception as e:\n",
    "            print(f\"LTV {max_ltv} , UP {up} failed: {e}, {e.args}\")"
   ]
  },
  {
   "cell_type": "markdown",
   "metadata": {},
   "source": [
    "### Kelly"
   ]
  },
  {
   "cell_type": "code",
   "execution_count": null,
   "metadata": {},
   "outputs": [],
   "source": [
    "for max_ltv in max_ltv_options[::-1]:\n",
    "    for up in utilization_param_options:\n",
    "        try:\n",
    "            name = folder + f\"backtest_kelly_ltv{str(max_ltv).replace('.', '_')}_up{str(up).replace('.', '_')}_x{num_start_times}.csv\"\n",
    "            if Path(name).exists():\n",
    "                continue\n",
    "\n",
    "            print(f\"Starting with ltv {max_ltv} up {up}\")\n",
    "            study_results = generate_study(\n",
    "                ltv=max_ltv,\n",
    "                fee_model=\"cached_kelly\",\n",
    "                fee_model_update_params={\n",
    "                    \"lookback_days\": 365,\n",
    "                    \"ltv_values\": [0.1, 0.15, 0.2, 0.25, 0.3, 0.35, 0.4, 0.45, 0.5, 0.55, 0.6, 0.65, 0.7, 0.75, 0.8, 0.85, 0.9],\n",
    "                    \"max_expiration_days\": 30,\n",
    "                },\n",
    "                utilization_param_array = [up],\n",
    "                loan_start_type_options = [start_type],\n",
    "                loan_duration_type_options = [duration_type],\n",
    "                num_start_times=num_start_times,\n",
    "                random_seed=0,\n",
    "            )\n",
    "            study_results.to_csv(name)\n",
    "            print(f\"Done with ltv {max_ltv} up {up}\")\n",
    "        except Exception as e:\n",
    "            print(f\"LTV {max_ltv} , UP {up} failed: {e}, {e.args}\")"
   ]
  }
 ],
 "metadata": {
  "kernelspec": {
   "display_name": "Python 3.9.13 ('cora-simulator-xnZT5TDi')",
   "language": "python",
   "name": "python3"
  },
  "language_info": {
   "codemirror_mode": {
    "name": "ipython",
    "version": 3
   },
   "file_extension": ".py",
   "mimetype": "text/x-python",
   "name": "python",
   "nbconvert_exporter": "python",
   "pygments_lexer": "ipython3",
   "version": "3.9.13"
  },
  "orig_nbformat": 4,
  "vscode": {
   "interpreter": {
    "hash": "81d42429d8f19dafd2cb6bb8eaf6d860bc30a667db05d1d3329398db3830c5fa"
   }
  }
 },
 "nbformat": 4,
 "nbformat_minor": 2
}
