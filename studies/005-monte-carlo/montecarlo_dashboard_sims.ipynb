{
 "cells": [
  {
   "cell_type": "code",
   "execution_count": null,
   "metadata": {},
   "outputs": [],
   "source": [
    "from generate_study_montecarlo import run_and_save_study_array\n",
    "from functools import partial\n",
    "\n",
    "# What do you want to run?\n",
    "start_type = \"uniform\"  # \"uniform\" or \"parabolic\"\n",
    "duration_type = \"parabolic\"  # \"uniform\" or \"parabolic\"\n",
    "volatility_factor=1.0\n",
    "\n",
    "num_randoms = 200\n",
    "max_ltv_options = [0.3, 0.4, 0.5, 0.6, 0.65, 0.7, 0.75, 0.8, 0.85, 0.9]\n",
    "utilization_param_options = [0.3, 0.6, 0.9, 1.2, 1.5, 1.8, 2.1, 2.4, 2.7, 3.0]\n",
    "\n",
    "folder = f\"studies/005-monte-carlo/start_{start_type}_duration_{duration_type}_x{num_randoms}_vf{str(volatility_factor).replace('.', '_')}/\"\n",
    "\n",
    "run = partial(\n",
    "    run_and_save_study_array,\n",
    "    save_location=folder,\n",
    "    max_ltvs=max_ltv_options,\n",
    "    utilization_params=utilization_param_options,\n",
    "    loan_start_type=start_type,\n",
    "    loan_duration_type=duration_type,\n",
    "    num_randoms=num_randoms,\n",
    "    volatility_factor=volatility_factor,\n",
    "    random_seed=52321,\n",
    "    cancel_if_exists=True,\n",
    "    continue_if_failed=True,\n",
    "    compress_to_zip=True,\n",
    ")\n"
   ]
  },
  {
   "cell_type": "code",
   "execution_count": null,
   "metadata": {},
   "outputs": [],
   "source": [
    "run(fee_model=\"bsm\")"
   ]
  },
  {
   "cell_type": "code",
   "execution_count": null,
   "metadata": {},
   "outputs": [],
   "source": [
    "run(fee_model=\"kelly\")"
   ]
  },
  {
   "cell_type": "code",
   "execution_count": null,
   "metadata": {},
   "outputs": [],
   "source": [
    "run(fee_model=\"aave\")"
   ]
  },
  {
   "cell_type": "code",
   "execution_count": null,
   "metadata": {},
   "outputs": [],
   "source": [
    "run(fee_model=\"trad\")"
   ]
  },
  {
   "cell_type": "code",
   "execution_count": null,
   "metadata": {},
   "outputs": [],
   "source": [
    "run(fee_model=\"bsmaavecombo\")"
   ]
  },
  {
   "cell_type": "code",
   "execution_count": null,
   "metadata": {},
   "outputs": [],
   "source": [
    "run(fee_model=\"bsmaavesum\")"
   ]
  },
  {
   "cell_type": "code",
   "execution_count": null,
   "metadata": {},
   "outputs": [],
   "source": [
    "run(fee_model=\"bsmtradcombo\")"
   ]
  },
  {
   "cell_type": "code",
   "execution_count": null,
   "metadata": {},
   "outputs": [],
   "source": [
    "run(fee_model=\"bsmtradcombo\")"
   ]
  },
  {
   "cell_type": "code",
   "execution_count": null,
   "metadata": {},
   "outputs": [],
   "source": [
    "run(fee_model=\"bsmtradsum\")"
   ]
  },
  {
   "cell_type": "code",
   "execution_count": null,
   "metadata": {},
   "outputs": [],
   "source": [
    "run(fee_model=\"kellytradcombo\")"
   ]
  },
  {
   "cell_type": "code",
   "execution_count": null,
   "metadata": {},
   "outputs": [],
   "source": [
    "run(fee_model=\"kellytradsum\")"
   ]
  }
 ],
 "metadata": {
  "kernelspec": {
   "display_name": "Python 3.9.13 ('cora-simulator-xnZT5TDi')",
   "language": "python",
   "name": "python3"
  },
  "language_info": {
   "codemirror_mode": {
    "name": "ipython",
    "version": 3
   },
   "file_extension": ".py",
   "mimetype": "text/x-python",
   "name": "python",
   "nbconvert_exporter": "python",
   "pygments_lexer": "ipython3",
   "version": "3.9.13"
  },
  "orig_nbformat": 4,
  "vscode": {
   "interpreter": {
    "hash": "81d42429d8f19dafd2cb6bb8eaf6d860bc30a667db05d1d3329398db3830c5fa"
   }
  }
 },
 "nbformat": 4,
 "nbformat_minor": 2
}
