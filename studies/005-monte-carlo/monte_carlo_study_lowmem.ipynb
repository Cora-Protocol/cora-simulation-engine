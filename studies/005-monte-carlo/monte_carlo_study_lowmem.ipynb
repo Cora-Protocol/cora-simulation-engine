{
 "cells": [
  {
   "cell_type": "code",
   "execution_count": 1,
   "metadata": {},
   "outputs": [],
   "source": [
    "from generate_study_montecarlo import generate_study_lowmem\n",
    "from pathlib import Path\n",
    "from datetime import datetime\n",
    "\n",
    "\n",
    "# What do you want to run?\n",
    "start_type = \"uniform\"  # \"uniform\", \"parabolic\"\n",
    "duration_type = \"parabolic\"  # \"uniform\", \"parabolic\"\n",
    "\n",
    "num_randoms = 400\n",
    "max_ltv_options = [0.3, 0.4, 0.5, 0.6, 0.65, 0.7, 0.75, 0.8, 0.85, 0.9]\n",
    "#utilization_param_options = [0.1, 0.3, 0.5, 0.7, 0.9, 1.1, 1.3, 1.5, 1.7, 1.9, 2.1, 2.3, 2.5]\n",
    "utilization_param_options = [0.3, 0.6, 0.9, 1.2, 1.5, 1.8, 2.1, 2.4, 2.7, 3.0]\n",
    "\n",
    "\n",
    "folder = f\"studies/005-monte-carlo/start_{start_type}_duration_{duration_type}/\"\n",
    "Path(folder).mkdir(parents=True, exist_ok=True)"
   ]
  },
  {
   "cell_type": "markdown",
   "metadata": {},
   "source": [
    "### Black Scholes"
   ]
  },
  {
   "cell_type": "code",
   "execution_count": 2,
   "metadata": {},
   "outputs": [
    {
     "name": "stdout",
     "output_type": "stream",
     "text": [
      "Starting with ltv 0.9 up 0.3\n",
      "Running 400 simulations, approximate time 10.0 minues and 0.0 seconds.\n"
     ]
    },
    {
     "ename": "KeyboardInterrupt",
     "evalue": "",
     "output_type": "error",
     "traceback": [
      "\u001b[0;31m---------------------------------------------------------------------------\u001b[0m",
      "\u001b[0;31mKeyboardInterrupt\u001b[0m                         Traceback (most recent call last)",
      "\u001b[1;32m/Users/miguel/Documents/cenit/repos/cora-simulator/studies/005-monte-carlo/monte_carlo_study_lowmem.ipynb Cell 3\u001b[0m in \u001b[0;36m<cell line: 1>\u001b[0;34m()\u001b[0m\n\u001b[1;32m      <a href='vscode-notebook-cell:/Users/miguel/Documents/cenit/repos/cora-simulator/studies/005-monte-carlo/monte_carlo_study_lowmem.ipynb#W2sZmlsZQ%3D%3D?line=5'>6</a>\u001b[0m     \u001b[39mcontinue\u001b[39;00m\n\u001b[1;32m      <a href='vscode-notebook-cell:/Users/miguel/Documents/cenit/repos/cora-simulator/studies/005-monte-carlo/monte_carlo_study_lowmem.ipynb#W2sZmlsZQ%3D%3D?line=7'>8</a>\u001b[0m \u001b[39mprint\u001b[39m(\u001b[39mf\u001b[39m\u001b[39m\"\u001b[39m\u001b[39mStarting with ltv \u001b[39m\u001b[39m{\u001b[39;00mmax_ltv\u001b[39m}\u001b[39;00m\u001b[39m up \u001b[39m\u001b[39m{\u001b[39;00mup\u001b[39m}\u001b[39;00m\u001b[39m\"\u001b[39m)\n\u001b[0;32m----> <a href='vscode-notebook-cell:/Users/miguel/Documents/cenit/repos/cora-simulator/studies/005-monte-carlo/monte_carlo_study_lowmem.ipynb#W2sZmlsZQ%3D%3D?line=8'>9</a>\u001b[0m study_results \u001b[39m=\u001b[39m generate_study_lowmem(\n\u001b[1;32m     <a href='vscode-notebook-cell:/Users/miguel/Documents/cenit/repos/cora-simulator/studies/005-monte-carlo/monte_carlo_study_lowmem.ipynb#W2sZmlsZQ%3D%3D?line=9'>10</a>\u001b[0m     ltv\u001b[39m=\u001b[39;49mmax_ltv,\n\u001b[1;32m     <a href='vscode-notebook-cell:/Users/miguel/Documents/cenit/repos/cora-simulator/studies/005-monte-carlo/monte_carlo_study_lowmem.ipynb#W2sZmlsZQ%3D%3D?line=10'>11</a>\u001b[0m     fee_model\u001b[39m=\u001b[39;49m\u001b[39m\"\u001b[39;49m\u001b[39mblack_scholes\u001b[39;49m\u001b[39m\"\u001b[39;49m,\n\u001b[1;32m     <a href='vscode-notebook-cell:/Users/miguel/Documents/cenit/repos/cora-simulator/studies/005-monte-carlo/monte_carlo_study_lowmem.ipynb#W2sZmlsZQ%3D%3D?line=11'>12</a>\u001b[0m     fee_model_update_params\u001b[39m=\u001b[39;49m{\u001b[39m\"\u001b[39;49m\u001b[39mlookback_days\u001b[39;49m\u001b[39m\"\u001b[39;49m: \u001b[39m365\u001b[39;49m, \u001b[39m\"\u001b[39;49m\u001b[39mvolatility_factor\u001b[39;49m\u001b[39m\"\u001b[39;49m: \u001b[39m1.0\u001b[39;49m},\n\u001b[1;32m     <a href='vscode-notebook-cell:/Users/miguel/Documents/cenit/repos/cora-simulator/studies/005-monte-carlo/monte_carlo_study_lowmem.ipynb#W2sZmlsZQ%3D%3D?line=12'>13</a>\u001b[0m     utilization_param_array \u001b[39m=\u001b[39;49m [up],\n\u001b[1;32m     <a href='vscode-notebook-cell:/Users/miguel/Documents/cenit/repos/cora-simulator/studies/005-monte-carlo/monte_carlo_study_lowmem.ipynb#W2sZmlsZQ%3D%3D?line=13'>14</a>\u001b[0m     loan_start_type_options \u001b[39m=\u001b[39;49m [start_type],\n\u001b[1;32m     <a href='vscode-notebook-cell:/Users/miguel/Documents/cenit/repos/cora-simulator/studies/005-monte-carlo/monte_carlo_study_lowmem.ipynb#W2sZmlsZQ%3D%3D?line=14'>15</a>\u001b[0m     loan_duration_type_options \u001b[39m=\u001b[39;49m [duration_type],\n\u001b[1;32m     <a href='vscode-notebook-cell:/Users/miguel/Documents/cenit/repos/cora-simulator/studies/005-monte-carlo/monte_carlo_study_lowmem.ipynb#W2sZmlsZQ%3D%3D?line=15'>16</a>\u001b[0m     num_randoms \u001b[39m=\u001b[39;49m num_randoms,\n\u001b[1;32m     <a href='vscode-notebook-cell:/Users/miguel/Documents/cenit/repos/cora-simulator/studies/005-monte-carlo/monte_carlo_study_lowmem.ipynb#W2sZmlsZQ%3D%3D?line=16'>17</a>\u001b[0m     volatility_factor\u001b[39m=\u001b[39;49m\u001b[39m1.0\u001b[39;49m,\n\u001b[1;32m     <a href='vscode-notebook-cell:/Users/miguel/Documents/cenit/repos/cora-simulator/studies/005-monte-carlo/monte_carlo_study_lowmem.ipynb#W2sZmlsZQ%3D%3D?line=17'>18</a>\u001b[0m     random_seed \u001b[39m=\u001b[39;49m \u001b[39m0\u001b[39;49m,\n\u001b[1;32m     <a href='vscode-notebook-cell:/Users/miguel/Documents/cenit/repos/cora-simulator/studies/005-monte-carlo/monte_carlo_study_lowmem.ipynb#W2sZmlsZQ%3D%3D?line=18'>19</a>\u001b[0m )\n\u001b[1;32m     <a href='vscode-notebook-cell:/Users/miguel/Documents/cenit/repos/cora-simulator/studies/005-monte-carlo/monte_carlo_study_lowmem.ipynb#W2sZmlsZQ%3D%3D?line=19'>20</a>\u001b[0m study_results\u001b[39m.\u001b[39mto_csv(name)\n\u001b[1;32m     <a href='vscode-notebook-cell:/Users/miguel/Documents/cenit/repos/cora-simulator/studies/005-monte-carlo/monte_carlo_study_lowmem.ipynb#W2sZmlsZQ%3D%3D?line=20'>21</a>\u001b[0m \u001b[39mprint\u001b[39m(\u001b[39mf\u001b[39m\u001b[39m\"\u001b[39m\u001b[39mDone with ltv \u001b[39m\u001b[39m{\u001b[39;00mmax_ltv\u001b[39m}\u001b[39;00m\u001b[39m up \u001b[39m\u001b[39m{\u001b[39;00mup\u001b[39m}\u001b[39;00m\u001b[39m\"\u001b[39m)\n",
      "File \u001b[0;32m~/Documents/cenit/repos/cora-simulator/studies/005-monte-carlo/generate_study.py:245\u001b[0m, in \u001b[0;36mgenerate_study_lowmem\u001b[0;34m(ltv, fee_model, fee_model_update_params, utilization_param_array, loan_start_type_options, loan_duration_type_options, start_time, num_randoms, volatility_factor, random_seed)\u001b[0m\n\u001b[1;32m    243\u001b[0m engine \u001b[39m=\u001b[39m SimulationEngine(strategy, environment, METRICS, config\u001b[39m=\u001b[39mCONFIG)\n\u001b[1;32m    244\u001b[0m \u001b[39mfor\u001b[39;00m j, random_seed \u001b[39min\u001b[39;00m \u001b[39menumerate\u001b[39m(\u001b[39mrange\u001b[39m(random_seed, random_seed \u001b[39m+\u001b[39m num_randoms)):\n\u001b[0;32m--> 245\u001b[0m     result \u001b[39m=\u001b[39m engine\u001b[39m.\u001b[39;49mrun_simulation(\n\u001b[1;32m    246\u001b[0m         start_time,\n\u001b[1;32m    247\u001b[0m         start_time \u001b[39m+\u001b[39;49m total_sim_time,\n\u001b[1;32m    248\u001b[0m         timedelta(hours\u001b[39m=\u001b[39;49m\u001b[39m1\u001b[39;49m),\n\u001b[1;32m    249\u001b[0m         random_seed,\n\u001b[1;32m    250\u001b[0m     )\n\u001b[1;32m    251\u001b[0m     custom_metrics \u001b[39m=\u001b[39m result\u001b[39m.\u001b[39mcustom_event_metrics[\u001b[39m\"\u001b[39m\u001b[39mcycle_end\u001b[39m\u001b[39m\"\u001b[39m][\u001b[39m0\u001b[39m]\n\u001b[1;32m    253\u001b[0m     df_input\u001b[39m.\u001b[39mappend(\n\u001b[1;32m    254\u001b[0m         {\n\u001b[1;32m    255\u001b[0m             \u001b[39m\"\u001b[39m\u001b[39mmax_ltv\u001b[39m\u001b[39m\"\u001b[39m: ltv,\n\u001b[0;32m   (...)\u001b[0m\n\u001b[1;32m    263\u001b[0m         }\n\u001b[1;32m    264\u001b[0m     )\n",
      "File \u001b[0;32m~/Documents/cenit/repos/cora-simulator/simulator/engine/engine.py:72\u001b[0m, in \u001b[0;36mSimulationEngine.run_simulation\u001b[0;34m(self, start, end, step, random_seed)\u001b[0m\n\u001b[1;32m     70\u001b[0m logger\u001b[39m.\u001b[39minfo(\u001b[39m\"\u001b[39m\u001b[39mBegin simulation run\u001b[39m\u001b[39m\"\u001b[39m)\n\u001b[1;32m     71\u001b[0m \u001b[39mwhile\u001b[39;00m \u001b[39mTrue\u001b[39;00m:\n\u001b[0;32m---> 72\u001b[0m     \u001b[39mself\u001b[39;49m\u001b[39m.\u001b[39;49m_take_step(step)\n\u001b[1;32m     73\u001b[0m     \u001b[39mif\u001b[39;00m \u001b[39mself\u001b[39m\u001b[39m.\u001b[39m_do_stop(end):\n\u001b[1;32m     74\u001b[0m         \u001b[39mbreak\u001b[39;00m\n",
      "File \u001b[0;32m~/Documents/cenit/repos/cora-simulator/simulator/engine/engine.py:111\u001b[0m, in \u001b[0;36mSimulationEngine._take_step\u001b[0;34m(self, step_size)\u001b[0m\n\u001b[1;32m    108\u001b[0m logger\u001b[39m.\u001b[39mdebug(\u001b[39mf\u001b[39m\u001b[39m\"\u001b[39m\u001b[39mtick=\u001b[39m\u001b[39m{\u001b[39;00m\u001b[39mself\u001b[39m\u001b[39m.\u001b[39m_state\u001b[39m.\u001b[39mget_tick()\u001b[39m}\u001b[39;00m\u001b[39m: begin\u001b[39m\u001b[39m\"\u001b[39m)\n\u001b[1;32m    110\u001b[0m actions_info, events_info \u001b[39m=\u001b[39m \u001b[39mself\u001b[39m\u001b[39m.\u001b[39m_state\u001b[39m.\u001b[39mtake_step(step_size)\n\u001b[0;32m--> 111\u001b[0m \u001b[39mself\u001b[39;49m\u001b[39m.\u001b[39;49m_log_step(actions_info, events_info)\n\u001b[1;32m    113\u001b[0m logger\u001b[39m.\u001b[39mdebug(\u001b[39mf\u001b[39m\u001b[39m\"\u001b[39m\u001b[39mtick=\u001b[39m\u001b[39m{\u001b[39;00m\u001b[39mself\u001b[39m\u001b[39m.\u001b[39m_state\u001b[39m.\u001b[39mget_tick()\u001b[39m}\u001b[39;00m\u001b[39m: done\u001b[39m\u001b[39m\"\u001b[39m)\n",
      "File \u001b[0;32m~/Documents/cenit/repos/cora-simulator/simulator/engine/engine.py:127\u001b[0m, in \u001b[0;36mSimulationEngine._log_step\u001b[0;34m(self, actions_info, events_info)\u001b[0m\n\u001b[1;32m    125\u001b[0m tick \u001b[39m=\u001b[39m \u001b[39mself\u001b[39m\u001b[39m.\u001b[39m_state\u001b[39m.\u001b[39mget_tick()\n\u001b[1;32m    126\u001b[0m timestamp \u001b[39m=\u001b[39m \u001b[39mself\u001b[39m\u001b[39m.\u001b[39m_state\u001b[39m.\u001b[39mget_datetime()\u001b[39m.\u001b[39mstrftime(\u001b[39m\"\u001b[39m\u001b[39m%\u001b[39m\u001b[39mY-\u001b[39m\u001b[39m%\u001b[39m\u001b[39mm-\u001b[39m\u001b[39m%d\u001b[39;00m\u001b[39m \u001b[39m\u001b[39m%\u001b[39m\u001b[39mH:\u001b[39m\u001b[39m%\u001b[39m\u001b[39mM:\u001b[39m\u001b[39m%\u001b[39m\u001b[39mS\u001b[39m\u001b[39m\"\u001b[39m)\n\u001b[0;32m--> 127\u001b[0m step_metrics \u001b[39m=\u001b[39m \u001b[39mself\u001b[39;49m\u001b[39m.\u001b[39;49m_metrics\u001b[39m.\u001b[39;49mby_step(\u001b[39mself\u001b[39;49m\u001b[39m.\u001b[39;49m_state)\n\u001b[1;32m    128\u001b[0m step_metrics \u001b[39m=\u001b[39m {\u001b[39m\"\u001b[39m\u001b[39mtick\u001b[39m\u001b[39m\"\u001b[39m: tick, \u001b[39m\"\u001b[39m\u001b[39mtimestamp\u001b[39m\u001b[39m\"\u001b[39m: timestamp, \u001b[39m*\u001b[39m\u001b[39m*\u001b[39mstep_metrics}\n\u001b[1;32m    129\u001b[0m \u001b[39mself\u001b[39m\u001b[39m.\u001b[39mresult_writer\u001b[39m.\u001b[39madd_step_metrics(step_metrics)\n",
      "File \u001b[0;32m~/Documents/cenit/repos/cora-simulator/protocols/cora/v1/metrics.py:106\u001b[0m, in \u001b[0;36mCoraMetrics.by_step\u001b[0;34m(cls, state)\u001b[0m\n\u001b[1;32m    104\u001b[0m run_delta \u001b[39m=\u001b[39m lending_pool\u001b[39m.\u001b[39m_running_period\n\u001b[1;32m    105\u001b[0m run_end \u001b[39m=\u001b[39m lending_pool\u001b[39m.\u001b[39m_next_cycle_time\n\u001b[0;32m--> 106\u001b[0m binned_metrics \u001b[39m=\u001b[39m \u001b[39mcls\u001b[39;49m\u001b[39m.\u001b[39;49m_get_binned_metrics(\n\u001b[1;32m    107\u001b[0m     active_loans, defaulted_loans, repaid_loans, loans, run_delta, run_end\n\u001b[1;32m    108\u001b[0m )\n\u001b[1;32m    110\u001b[0m \u001b[39mreturn\u001b[39;00m {\n\u001b[1;32m    111\u001b[0m     \u001b[39m\"\u001b[39m\u001b[39mcollateral_price\u001b[39m\u001b[39m\"\u001b[39m: collateral_price,\n\u001b[1;32m    112\u001b[0m     \u001b[39m\"\u001b[39m\u001b[39mpool_utilization\u001b[39m\u001b[39m\"\u001b[39m: lending_pool\u001b[39m.\u001b[39mget_current_utilization(),\n\u001b[0;32m   (...)\u001b[0m\n\u001b[1;32m    129\u001b[0m     \u001b[39m*\u001b[39m\u001b[39m*\u001b[39mbinned_metrics,\n\u001b[1;32m    130\u001b[0m }\n",
      "File \u001b[0;32m~/Documents/cenit/repos/cora-simulator/protocols/cora/v1/metrics.py:277\u001b[0m, in \u001b[0;36mCoraMetrics._get_binned_metrics\u001b[0;34m(cls, active_loans, defaulted_loans, repaid_loans, loans, run_delta, run_end)\u001b[0m\n\u001b[1;32m    273\u001b[0m repaid_loans_hists \u001b[39m=\u001b[39m apply_metric_binners(\n\u001b[1;32m    274\u001b[0m     repaid_loans, loan_binners, \u001b[39m\"\u001b[39m\u001b[39mhist-repaid_loans\u001b[39m\u001b[39m\"\u001b[39m\n\u001b[1;32m    275\u001b[0m )\n\u001b[1;32m    276\u001b[0m loans_hists \u001b[39m=\u001b[39m apply_metric_binners(loans, loan_binners, \u001b[39m\"\u001b[39m\u001b[39mhist-loans\u001b[39m\u001b[39m\"\u001b[39m)\n\u001b[0;32m--> 277\u001b[0m loan_fees_dists \u001b[39m=\u001b[39m apply_metric_binners(\n\u001b[1;32m    278\u001b[0m     loans,\n\u001b[1;32m    279\u001b[0m     loan_binners,\n\u001b[1;32m    280\u001b[0m     \u001b[39m\"\u001b[39;49m\u001b[39mdist-loan_fees\u001b[39;49m\u001b[39m\"\u001b[39;49m,\n\u001b[1;32m    281\u001b[0m     \u001b[39mlambda\u001b[39;49;00m ls: \u001b[39msum\u001b[39;49m(l\u001b[39m.\u001b[39;49mborrowing_fee \u001b[39mfor\u001b[39;49;00m l \u001b[39min\u001b[39;49;00m ls),\n\u001b[1;32m    282\u001b[0m )\n\u001b[1;32m    283\u001b[0m \u001b[39mreturn\u001b[39;00m {\n\u001b[1;32m    284\u001b[0m     \u001b[39m*\u001b[39m\u001b[39m*\u001b[39mactive_loans_hists,\n\u001b[1;32m    285\u001b[0m     \u001b[39m*\u001b[39m\u001b[39m*\u001b[39mdefaulted_loans_hists,\n\u001b[0;32m   (...)\u001b[0m\n\u001b[1;32m    288\u001b[0m     \u001b[39m*\u001b[39m\u001b[39m*\u001b[39mloan_fees_dists,\n\u001b[1;32m    289\u001b[0m }\n",
      "File \u001b[0;32m~/Documents/cenit/repos/cora-simulator/simulator/metrics/calculations.py:67\u001b[0m, in \u001b[0;36mapply_metric_binners\u001b[0;34m(elements, binners, prefix, aggregator)\u001b[0m\n\u001b[1;32m     62\u001b[0m \u001b[39mif\u001b[39;00m (aggregator \u001b[39mis\u001b[39;00m \u001b[39mNone\u001b[39;00m) \u001b[39mor\u001b[39;00m (aggregator \u001b[39mis\u001b[39;00m \u001b[39mlen\u001b[39m):\n\u001b[1;32m     63\u001b[0m     \u001b[39mreturn\u001b[39;00m {\n\u001b[1;32m     64\u001b[0m         \u001b[39mf\u001b[39m\u001b[39m\"\u001b[39m\u001b[39m{\u001b[39;00mprefix\u001b[39m}\u001b[39;00m\u001b[39m-\u001b[39m\u001b[39m{\u001b[39;00mk\u001b[39m}\u001b[39;00m\u001b[39m\"\u001b[39m: v \u001b[39mfor\u001b[39;00m b \u001b[39min\u001b[39;00m binners \u001b[39mfor\u001b[39;00m k, v \u001b[39min\u001b[39;00m b\u001b[39m.\u001b[39mcount(elements)\u001b[39m.\u001b[39mitems()\n\u001b[1;32m     65\u001b[0m     }\n\u001b[0;32m---> 67\u001b[0m \u001b[39mreturn\u001b[39;00m {\n\u001b[1;32m     68\u001b[0m     \u001b[39mf\u001b[39m\u001b[39m\"\u001b[39m\u001b[39m{\u001b[39;00mprefix\u001b[39m}\u001b[39;00m\u001b[39m-\u001b[39m\u001b[39m{\u001b[39;00mk\u001b[39m}\u001b[39;00m\u001b[39m\"\u001b[39m: v\n\u001b[1;32m     69\u001b[0m     \u001b[39mfor\u001b[39;00m b \u001b[39min\u001b[39;00m binners\n\u001b[1;32m     70\u001b[0m     \u001b[39mfor\u001b[39;00m k, v \u001b[39min\u001b[39;00m b\u001b[39m.\u001b[39maggregate(elements, aggregator)\u001b[39m.\u001b[39mitems()\n\u001b[1;32m     71\u001b[0m }\n",
      "File \u001b[0;32m~/Documents/cenit/repos/cora-simulator/simulator/metrics/calculations.py:70\u001b[0m, in \u001b[0;36m<dictcomp>\u001b[0;34m(.0)\u001b[0m\n\u001b[1;32m     62\u001b[0m \u001b[39mif\u001b[39;00m (aggregator \u001b[39mis\u001b[39;00m \u001b[39mNone\u001b[39;00m) \u001b[39mor\u001b[39;00m (aggregator \u001b[39mis\u001b[39;00m \u001b[39mlen\u001b[39m):\n\u001b[1;32m     63\u001b[0m     \u001b[39mreturn\u001b[39;00m {\n\u001b[1;32m     64\u001b[0m         \u001b[39mf\u001b[39m\u001b[39m\"\u001b[39m\u001b[39m{\u001b[39;00mprefix\u001b[39m}\u001b[39;00m\u001b[39m-\u001b[39m\u001b[39m{\u001b[39;00mk\u001b[39m}\u001b[39;00m\u001b[39m\"\u001b[39m: v \u001b[39mfor\u001b[39;00m b \u001b[39min\u001b[39;00m binners \u001b[39mfor\u001b[39;00m k, v \u001b[39min\u001b[39;00m b\u001b[39m.\u001b[39mcount(elements)\u001b[39m.\u001b[39mitems()\n\u001b[1;32m     65\u001b[0m     }\n\u001b[1;32m     67\u001b[0m \u001b[39mreturn\u001b[39;00m {\n\u001b[1;32m     68\u001b[0m     \u001b[39mf\u001b[39m\u001b[39m\"\u001b[39m\u001b[39m{\u001b[39;00mprefix\u001b[39m}\u001b[39;00m\u001b[39m-\u001b[39m\u001b[39m{\u001b[39;00mk\u001b[39m}\u001b[39;00m\u001b[39m\"\u001b[39m: v\n\u001b[1;32m     69\u001b[0m     \u001b[39mfor\u001b[39;00m b \u001b[39min\u001b[39;00m binners\n\u001b[0;32m---> 70\u001b[0m     \u001b[39mfor\u001b[39;00m k, v \u001b[39min\u001b[39;00m b\u001b[39m.\u001b[39;49maggregate(elements, aggregator)\u001b[39m.\u001b[39mitems()\n\u001b[1;32m     71\u001b[0m }\n",
      "File \u001b[0;32m~/Documents/cenit/repos/cora-simulator/simulator/metrics/calculations.py:44\u001b[0m, in \u001b[0;36mMetricBinner.aggregate\u001b[0;34m(self, elements, aggfunc)\u001b[0m\n\u001b[1;32m     38\u001b[0m \u001b[39mdef\u001b[39;00m \u001b[39maggregate\u001b[39m(\n\u001b[1;32m     39\u001b[0m     \u001b[39mself\u001b[39m,\n\u001b[1;32m     40\u001b[0m     elements: Iterable[Element],\n\u001b[1;32m     41\u001b[0m     aggfunc: Callable[[Iterable[Element]], \u001b[39mfloat\u001b[39m] \u001b[39m=\u001b[39m \u001b[39mlen\u001b[39m,\n\u001b[1;32m     42\u001b[0m ) \u001b[39m-\u001b[39m\u001b[39m>\u001b[39m Dict[\u001b[39mstr\u001b[39m, \u001b[39mfloat\u001b[39m]:\n\u001b[1;32m     43\u001b[0m     distribution \u001b[39m=\u001b[39m \u001b[39mlist\u001b[39m(\u001b[39mmap\u001b[39m(\u001b[39mself\u001b[39m\u001b[39m.\u001b[39mdistfunc, elements))\n\u001b[0;32m---> 44\u001b[0m     bin_indexes \u001b[39m=\u001b[39m \u001b[39mself\u001b[39;49m\u001b[39m.\u001b[39;49m_get_bin_indexes(distribution)\n\u001b[1;32m     45\u001b[0m     grouping \u001b[39m=\u001b[39m {i: [] \u001b[39mfor\u001b[39;00m i \u001b[39min\u001b[39;00m \u001b[39mrange\u001b[39m(\u001b[39mlen\u001b[39m(\u001b[39mself\u001b[39m\u001b[39m.\u001b[39mbins) \u001b[39m-\u001b[39m \u001b[39m1\u001b[39m)}\n\u001b[1;32m     46\u001b[0m     \u001b[39mfor\u001b[39;00m element, idx \u001b[39min\u001b[39;00m \u001b[39mzip\u001b[39m(elements, bin_indexes):\n",
      "File \u001b[0;32m~/Documents/cenit/repos/cora-simulator/simulator/metrics/calculations.py:26\u001b[0m, in \u001b[0;36mMetricBinner._get_bin_indexes\u001b[0;34m(self, values)\u001b[0m\n\u001b[1;32m     24\u001b[0m values \u001b[39m=\u001b[39m np\u001b[39m.\u001b[39marray(values)\n\u001b[1;32m     25\u001b[0m values \u001b[39m=\u001b[39m values[np\u001b[39m.\u001b[39mlogical_and(values \u001b[39m>\u001b[39m\u001b[39m=\u001b[39m \u001b[39mself\u001b[39m\u001b[39m.\u001b[39mbins[\u001b[39m0\u001b[39m], values \u001b[39m<\u001b[39m\u001b[39m=\u001b[39m \u001b[39mself\u001b[39m\u001b[39m.\u001b[39mbins[\u001b[39m-\u001b[39m\u001b[39m1\u001b[39m])]\n\u001b[0;32m---> 26\u001b[0m \u001b[39mreturn\u001b[39;00m np\u001b[39m.\u001b[39;49msearchsorted(\u001b[39mself\u001b[39;49m\u001b[39m.\u001b[39;49mbins[:\u001b[39m-\u001b[39;49m\u001b[39m1\u001b[39;49m], values, \u001b[39m\"\u001b[39;49m\u001b[39mright\u001b[39;49m\u001b[39m\"\u001b[39;49m) \u001b[39m-\u001b[39;49m \u001b[39m1\u001b[39;49m\n",
      "\u001b[0;31mKeyboardInterrupt\u001b[0m: "
     ]
    }
   ],
   "source": [
    "for max_ltv in max_ltv_options[::-1][:1]:\n",
    "    for up in utilization_param_options[:1]:\n",
    "        try:\n",
    "            name = folder + f\"montecarlo_BSM_ltv{str(max_ltv).replace('.', '_')}_up{str(up).replace('.', '_')}_x{num_randoms}.csv\"\n",
    "            if Path(name).exists():\n",
    "                continue\n",
    "\n",
    "            print(f\"Starting with ltv {max_ltv} up {up}\")\n",
    "            study_results = generate_study_lowmem(\n",
    "                ltv=max_ltv,\n",
    "                fee_model=\"black_scholes\",\n",
    "                fee_model_update_params={\"lookback_days\": 365, \"volatility_factor\": 1.0},\n",
    "                utilization_param_array = [up],\n",
    "                loan_start_type_options = [start_type],\n",
    "                loan_duration_type_options = [duration_type],\n",
    "                num_randoms = num_randoms,\n",
    "                volatility_factor=1.0,\n",
    "                random_seed = 0,\n",
    "            )\n",
    "            study_results.to_csv(name)\n",
    "            print(f\"Done with ltv {max_ltv} up {up}\")\n",
    "        except Exception as e:\n",
    "            print(f\"LTV {max_ltv} , UP {up} failed: {e}, {e.args}\")"
   ]
  },
  {
   "cell_type": "code",
   "execution_count": null,
   "metadata": {},
   "outputs": [],
   "source": [
    "for max_ltv in max_ltv_options[::-1][:1]:\n",
    "    for up in utilization_param_options[:1]:\n",
    "        try:\n",
    "            name = folder + f\"montecarlo_BSM_ltv{str(max_ltv).replace('.', '_')}_up{str(up).replace('.', '_')}_x{num_randoms}_vf2.csv\"\n",
    "            if Path(name).exists():\n",
    "                continue\n",
    "\n",
    "            print(f\"Starting with ltv {max_ltv} up {up}\")\n",
    "            study_results = generate_study_lowmem(\n",
    "                ltv=max_ltv,\n",
    "                fee_model=\"black_scholes\",\n",
    "                fee_model_update_params={\"lookback_days\": 365, \"volatility_factor\": 1.0},\n",
    "                utilization_param_array = [up],\n",
    "                loan_start_type_options = [start_type],\n",
    "                loan_duration_type_options = [duration_type],\n",
    "                num_randoms = num_randoms,\n",
    "                volatility_factor=2.0,\n",
    "                random_seed = 0,\n",
    "            )\n",
    "            study_results.to_csv(name)\n",
    "            print(f\"Done with ltv {max_ltv} up {up}\")\n",
    "        except Exception as e:\n",
    "            print(f\"LTV {max_ltv} , UP {up} failed: {e}, {e.args}\")"
   ]
  },
  {
   "cell_type": "markdown",
   "metadata": {},
   "source": [
    "### Combined BSM and traditional"
   ]
  },
  {
   "cell_type": "code",
   "execution_count": null,
   "metadata": {},
   "outputs": [],
   "source": [
    "for max_ltv in max_ltv_options[::-1]:\n",
    "    for up in utilization_param_options:\n",
    "        try:\n",
    "            name = folder + f\"montecarlo_combined_ltv{str(max_ltv).replace('.', '_')}_up{str(up).replace('.', '_')}_x{num_randoms}.csv\"\n",
    "            if Path(name).exists():\n",
    "                continue\n",
    "\n",
    "            print(f\"Starting with ltv {max_ltv} up {up}\")\n",
    "            study_results = generate_study_lowmem(\n",
    "                ltv=max_ltv,\n",
    "                fee_model=\"combined_bsm_traditional\",\n",
    "                fee_model_update_params={\n",
    "                    \"lookback_days\": 365,\n",
    "                    \"volatility_factor\": 1.0,\n",
    "                    \"optimal_utilization\": 0.8,\n",
    "                    \"base_rate\": 0.01,\n",
    "                    \"rate_slope_1\": 0.005,\n",
    "                    \"rate_slope_2\": 0.75,\n",
    "                },                \n",
    "                utilization_param_array = [up],\n",
    "                loan_start_type_options = [start_type],\n",
    "                loan_duration_type_options = [duration_type],\n",
    "                num_randoms = num_randoms,\n",
    "                random_seed = 0,\n",
    "            )\n",
    "            study_results.to_csv(name)\n",
    "            print(f\"Done with ltv {max_ltv} up {up}\")\n",
    "        except Exception as e:\n",
    "            print(f\"LTV {max_ltv} , UP {up} failed: {e}, {e.args}\")"
   ]
  },
  {
   "cell_type": "markdown",
   "metadata": {},
   "source": [
    "### Sum BSM and traditional"
   ]
  },
  {
   "cell_type": "code",
   "execution_count": null,
   "metadata": {},
   "outputs": [],
   "source": [
    "for max_ltv in max_ltv_options[::-1]:\n",
    "    for up in utilization_param_options:\n",
    "        try:\n",
    "            name = folder + f\"montecarlo_sum_ltv{str(max_ltv).replace('.', '_')}_up{str(up).replace('.', '_')}_x{num_randoms}.csv\"\n",
    "            if Path(name).exists():\n",
    "                continue\n",
    "\n",
    "            print(f\"Starting with ltv {max_ltv} up {up}\")\n",
    "            study_results = generate_study_lowmem(\n",
    "                ltv=max_ltv,\n",
    "                fee_model=\"sum_bsm_traditional\",\n",
    "                fee_model_update_params={\n",
    "                    \"lookback_days\": 365,\n",
    "                    \"volatility_factor\": 1.0,\n",
    "                    \"optimal_utilization\": 0.8,\n",
    "                    \"base_rate\": 0.01,\n",
    "                    \"rate_slope_1\": 0.005,\n",
    "                    \"rate_slope_2\": 0.75,\n",
    "                },                \n",
    "                utilization_param_array = [up],\n",
    "                loan_start_type_options = [start_type],\n",
    "                loan_duration_type_options = [duration_type],\n",
    "                num_randoms = num_randoms,\n",
    "                random_seed = 0,\n",
    "            )\n",
    "            study_results.to_csv(name)\n",
    "            print(f\"Done with ltv {max_ltv} up {up}\")\n",
    "        except Exception as e:\n",
    "            print(f\"LTV {max_ltv} , UP {up} failed: {e}, {e.args}\")"
   ]
  },
  {
   "cell_type": "markdown",
   "metadata": {},
   "source": [
    "### Traditional"
   ]
  },
  {
   "cell_type": "code",
   "execution_count": null,
   "metadata": {},
   "outputs": [],
   "source": [
    "for max_ltv in max_ltv_options[::-1]:\n",
    "    for up in utilization_param_options:\n",
    "        try:\n",
    "            name = folder + f\"montecarlo_aave_ltv{str(max_ltv).replace('.', '_')}_up{str(up).replace('.', '_')}_x{num_randoms}.csv\"\n",
    "            if Path(name).exists():\n",
    "                continue\n",
    "\n",
    "            print(f\"Starting with ltv {max_ltv} up {up}\")\n",
    "            study_results = generate_study_lowmem(\n",
    "                ltv=max_ltv,\n",
    "                fee_model=\"traditional\",\n",
    "                fee_model_update_params={\n",
    "                    \"optimal_utilization\": 0.8,\n",
    "                    \"base_rate\": 0.01,\n",
    "                    \"rate_slope_1\": 0.005,\n",
    "                    \"rate_slope_2\": 0.75,\n",
    "                },                \n",
    "                utilization_param_array = [up],\n",
    "                loan_start_type_options = [start_type],\n",
    "                loan_duration_type_options = [duration_type],\n",
    "                num_randoms = num_randoms,\n",
    "                random_seed = 0,\n",
    "            )\n",
    "            study_results.to_csv(name)\n",
    "            print(f\"Done with ltv {max_ltv} up {up}\")\n",
    "        except Exception as e:\n",
    "            print(f\"LTV {max_ltv} , UP {up} failed: {e}, {e.args}\")"
   ]
  },
  {
   "cell_type": "code",
   "execution_count": 2,
   "metadata": {},
   "outputs": [
    {
     "name": "stdout",
     "output_type": "stream",
     "text": [
      "Starting with ltv 0.9 up 0.1\n",
      "Running 400 simulations, approximate time 10.0 minues and 0.0 seconds.\n",
      "No cache found for 2022-08-24_lb365_exp30_kelly_fee_model.pkl, generating...\n",
      "Calculated cache for 2022-08-24_lb365_exp30_kelly_fee_model.pkl\n",
      "Generated cache for 2022-08-24_lb365_exp30_kelly_fee_model.pkl\n",
      "Done with ltv 0.9 up 0.1\n",
      "Starting with ltv 0.9 up 0.3\n",
      "Running 400 simulations, approximate time 10.0 minues and 0.0 seconds.\n",
      "Done with ltv 0.9 up 0.3\n",
      "Starting with ltv 0.9 up 0.5\n",
      "Running 400 simulations, approximate time 10.0 minues and 0.0 seconds.\n",
      "Done with ltv 0.9 up 0.5\n",
      "Starting with ltv 0.9 up 0.7\n",
      "Running 400 simulations, approximate time 10.0 minues and 0.0 seconds.\n",
      "Done with ltv 0.9 up 0.7\n",
      "Starting with ltv 0.9 up 0.9\n",
      "Running 400 simulations, approximate time 10.0 minues and 0.0 seconds.\n",
      "Done with ltv 0.9 up 0.9\n",
      "Starting with ltv 0.9 up 1.1\n",
      "Running 400 simulations, approximate time 10.0 minues and 0.0 seconds.\n",
      "Done with ltv 0.9 up 1.1\n",
      "Starting with ltv 0.9 up 1.3\n",
      "Running 400 simulations, approximate time 10.0 minues and 0.0 seconds.\n"
     ]
    },
    {
     "ename": "KeyboardInterrupt",
     "evalue": "",
     "output_type": "error",
     "traceback": [
      "\u001b[0;31m---------------------------------------------------------------------------\u001b[0m",
      "\u001b[0;31mKeyboardInterrupt\u001b[0m                         Traceback (most recent call last)",
      "\u001b[1;32m/Users/miguel/Documents/cenit/repos/cora-simulator/studies/005-monte-carlo/monte_carlo_study_lowmem.ipynb Cell 10\u001b[0m in \u001b[0;36m<cell line: 1>\u001b[0;34m()\u001b[0m\n\u001b[1;32m      <a href='vscode-notebook-cell:/Users/miguel/Documents/cenit/repos/cora-simulator/studies/005-monte-carlo/monte_carlo_study_lowmem.ipynb#X12sZmlsZQ%3D%3D?line=5'>6</a>\u001b[0m     \u001b[39mcontinue\u001b[39;00m\n\u001b[1;32m      <a href='vscode-notebook-cell:/Users/miguel/Documents/cenit/repos/cora-simulator/studies/005-monte-carlo/monte_carlo_study_lowmem.ipynb#X12sZmlsZQ%3D%3D?line=7'>8</a>\u001b[0m \u001b[39mprint\u001b[39m(\u001b[39mf\u001b[39m\u001b[39m\"\u001b[39m\u001b[39mStarting with ltv \u001b[39m\u001b[39m{\u001b[39;00mmax_ltv\u001b[39m}\u001b[39;00m\u001b[39m up \u001b[39m\u001b[39m{\u001b[39;00mup\u001b[39m}\u001b[39;00m\u001b[39m\"\u001b[39m)\n\u001b[0;32m----> <a href='vscode-notebook-cell:/Users/miguel/Documents/cenit/repos/cora-simulator/studies/005-monte-carlo/monte_carlo_study_lowmem.ipynb#X12sZmlsZQ%3D%3D?line=8'>9</a>\u001b[0m study_results \u001b[39m=\u001b[39m generate_study_lowmem(\n\u001b[1;32m     <a href='vscode-notebook-cell:/Users/miguel/Documents/cenit/repos/cora-simulator/studies/005-monte-carlo/monte_carlo_study_lowmem.ipynb#X12sZmlsZQ%3D%3D?line=9'>10</a>\u001b[0m     ltv\u001b[39m=\u001b[39;49mmax_ltv,\n\u001b[1;32m     <a href='vscode-notebook-cell:/Users/miguel/Documents/cenit/repos/cora-simulator/studies/005-monte-carlo/monte_carlo_study_lowmem.ipynb#X12sZmlsZQ%3D%3D?line=10'>11</a>\u001b[0m     fee_model\u001b[39m=\u001b[39;49m\u001b[39m\"\u001b[39;49m\u001b[39mcached_kelly\u001b[39;49m\u001b[39m\"\u001b[39;49m,\n\u001b[1;32m     <a href='vscode-notebook-cell:/Users/miguel/Documents/cenit/repos/cora-simulator/studies/005-monte-carlo/monte_carlo_study_lowmem.ipynb#X12sZmlsZQ%3D%3D?line=11'>12</a>\u001b[0m     fee_model_update_params\u001b[39m=\u001b[39;49m{\n\u001b[1;32m     <a href='vscode-notebook-cell:/Users/miguel/Documents/cenit/repos/cora-simulator/studies/005-monte-carlo/monte_carlo_study_lowmem.ipynb#X12sZmlsZQ%3D%3D?line=12'>13</a>\u001b[0m         \u001b[39m\"\u001b[39;49m\u001b[39mlookback_days\u001b[39;49m\u001b[39m\"\u001b[39;49m: \u001b[39m365\u001b[39;49m,\n\u001b[1;32m     <a href='vscode-notebook-cell:/Users/miguel/Documents/cenit/repos/cora-simulator/studies/005-monte-carlo/monte_carlo_study_lowmem.ipynb#X12sZmlsZQ%3D%3D?line=13'>14</a>\u001b[0m         \u001b[39m\"\u001b[39;49m\u001b[39mltv_values\u001b[39;49m\u001b[39m\"\u001b[39;49m: [\u001b[39m0.1\u001b[39;49m, \u001b[39m0.15\u001b[39;49m, \u001b[39m0.2\u001b[39;49m, \u001b[39m0.25\u001b[39;49m, \u001b[39m0.3\u001b[39;49m, \u001b[39m0.35\u001b[39;49m, \u001b[39m0.4\u001b[39;49m, \u001b[39m0.45\u001b[39;49m, \u001b[39m0.5\u001b[39;49m, \u001b[39m0.55\u001b[39;49m, \u001b[39m0.6\u001b[39;49m, \u001b[39m0.65\u001b[39;49m, \u001b[39m0.7\u001b[39;49m, \u001b[39m0.75\u001b[39;49m, \u001b[39m0.8\u001b[39;49m, \u001b[39m0.85\u001b[39;49m, \u001b[39m0.9\u001b[39;49m],\n\u001b[1;32m     <a href='vscode-notebook-cell:/Users/miguel/Documents/cenit/repos/cora-simulator/studies/005-monte-carlo/monte_carlo_study_lowmem.ipynb#X12sZmlsZQ%3D%3D?line=14'>15</a>\u001b[0m         \u001b[39m\"\u001b[39;49m\u001b[39mmax_expiration_days\u001b[39;49m\u001b[39m\"\u001b[39;49m: \u001b[39m30\u001b[39;49m,\n\u001b[1;32m     <a href='vscode-notebook-cell:/Users/miguel/Documents/cenit/repos/cora-simulator/studies/005-monte-carlo/monte_carlo_study_lowmem.ipynb#X12sZmlsZQ%3D%3D?line=15'>16</a>\u001b[0m     },                \n\u001b[1;32m     <a href='vscode-notebook-cell:/Users/miguel/Documents/cenit/repos/cora-simulator/studies/005-monte-carlo/monte_carlo_study_lowmem.ipynb#X12sZmlsZQ%3D%3D?line=16'>17</a>\u001b[0m     utilization_param_array \u001b[39m=\u001b[39;49m [up],\n\u001b[1;32m     <a href='vscode-notebook-cell:/Users/miguel/Documents/cenit/repos/cora-simulator/studies/005-monte-carlo/monte_carlo_study_lowmem.ipynb#X12sZmlsZQ%3D%3D?line=17'>18</a>\u001b[0m     loan_start_type_options \u001b[39m=\u001b[39;49m [start_type],\n\u001b[1;32m     <a href='vscode-notebook-cell:/Users/miguel/Documents/cenit/repos/cora-simulator/studies/005-monte-carlo/monte_carlo_study_lowmem.ipynb#X12sZmlsZQ%3D%3D?line=18'>19</a>\u001b[0m     loan_duration_type_options \u001b[39m=\u001b[39;49m [duration_type],\n\u001b[1;32m     <a href='vscode-notebook-cell:/Users/miguel/Documents/cenit/repos/cora-simulator/studies/005-monte-carlo/monte_carlo_study_lowmem.ipynb#X12sZmlsZQ%3D%3D?line=19'>20</a>\u001b[0m     num_randoms \u001b[39m=\u001b[39;49m num_randoms,\n\u001b[1;32m     <a href='vscode-notebook-cell:/Users/miguel/Documents/cenit/repos/cora-simulator/studies/005-monte-carlo/monte_carlo_study_lowmem.ipynb#X12sZmlsZQ%3D%3D?line=20'>21</a>\u001b[0m     random_seed \u001b[39m=\u001b[39;49m \u001b[39m0\u001b[39;49m,\n\u001b[1;32m     <a href='vscode-notebook-cell:/Users/miguel/Documents/cenit/repos/cora-simulator/studies/005-monte-carlo/monte_carlo_study_lowmem.ipynb#X12sZmlsZQ%3D%3D?line=21'>22</a>\u001b[0m )\n\u001b[1;32m     <a href='vscode-notebook-cell:/Users/miguel/Documents/cenit/repos/cora-simulator/studies/005-monte-carlo/monte_carlo_study_lowmem.ipynb#X12sZmlsZQ%3D%3D?line=22'>23</a>\u001b[0m study_results\u001b[39m.\u001b[39mto_csv(name)\n\u001b[1;32m     <a href='vscode-notebook-cell:/Users/miguel/Documents/cenit/repos/cora-simulator/studies/005-monte-carlo/monte_carlo_study_lowmem.ipynb#X12sZmlsZQ%3D%3D?line=23'>24</a>\u001b[0m \u001b[39mprint\u001b[39m(\u001b[39mf\u001b[39m\u001b[39m\"\u001b[39m\u001b[39mDone with ltv \u001b[39m\u001b[39m{\u001b[39;00mmax_ltv\u001b[39m}\u001b[39;00m\u001b[39m up \u001b[39m\u001b[39m{\u001b[39;00mup\u001b[39m}\u001b[39;00m\u001b[39m\"\u001b[39m)\n",
      "File \u001b[0;32m~/Documents/cenit/repos/cora-simulator/studies/005-monte-carlo/generate_study.py:246\u001b[0m, in \u001b[0;36mgenerate_study_lowmem\u001b[0;34m(ltv, fee_model, fee_model_update_params, utilization_param_array, loan_start_type_options, loan_duration_type_options, start_time, num_randoms, random_seed)\u001b[0m\n\u001b[1;32m    242\u001b[0m engine \u001b[39m=\u001b[39m SimulationEngine(\n\u001b[1;32m    243\u001b[0m     strategy, MONTE_CARLO_ENVIRONMENT, METRICS, config\u001b[39m=\u001b[39mCONFIG\n\u001b[1;32m    244\u001b[0m )\n\u001b[1;32m    245\u001b[0m \u001b[39mfor\u001b[39;00m j, random_seed \u001b[39min\u001b[39;00m \u001b[39menumerate\u001b[39m(\u001b[39mrange\u001b[39m(random_seed, random_seed \u001b[39m+\u001b[39m num_randoms)):\n\u001b[0;32m--> 246\u001b[0m     result \u001b[39m=\u001b[39m engine\u001b[39m.\u001b[39;49mrun_simulation(\n\u001b[1;32m    247\u001b[0m         start_time,\n\u001b[1;32m    248\u001b[0m         start_time \u001b[39m+\u001b[39;49m total_sim_time,\n\u001b[1;32m    249\u001b[0m         timedelta(hours\u001b[39m=\u001b[39;49m\u001b[39m1\u001b[39;49m),\n\u001b[1;32m    250\u001b[0m         random_seed,\n\u001b[1;32m    251\u001b[0m     )\n\u001b[1;32m    252\u001b[0m     custom_metrics \u001b[39m=\u001b[39m result\u001b[39m.\u001b[39mcustom_event_metrics[\u001b[39m\"\u001b[39m\u001b[39mcycle_end\u001b[39m\u001b[39m\"\u001b[39m][\u001b[39m0\u001b[39m]\n\u001b[1;32m    254\u001b[0m     df_input\u001b[39m.\u001b[39mappend(\n\u001b[1;32m    255\u001b[0m         {\n\u001b[1;32m    256\u001b[0m             \u001b[39m\"\u001b[39m\u001b[39mmax_ltv\u001b[39m\u001b[39m\"\u001b[39m: ltv,\n\u001b[0;32m   (...)\u001b[0m\n\u001b[1;32m    264\u001b[0m         }\n\u001b[1;32m    265\u001b[0m     )\n",
      "File \u001b[0;32m~/Documents/cenit/repos/cora-simulator/simulator/engine/engine.py:72\u001b[0m, in \u001b[0;36mSimulationEngine.run_simulation\u001b[0;34m(self, start, end, step, random_seed)\u001b[0m\n\u001b[1;32m     70\u001b[0m logger\u001b[39m.\u001b[39minfo(\u001b[39m\"\u001b[39m\u001b[39mBegin simulation run\u001b[39m\u001b[39m\"\u001b[39m)\n\u001b[1;32m     71\u001b[0m \u001b[39mwhile\u001b[39;00m \u001b[39mTrue\u001b[39;00m:\n\u001b[0;32m---> 72\u001b[0m     \u001b[39mself\u001b[39;49m\u001b[39m.\u001b[39;49m_take_step(step)\n\u001b[1;32m     73\u001b[0m     \u001b[39mif\u001b[39;00m \u001b[39mself\u001b[39m\u001b[39m.\u001b[39m_do_stop(end):\n\u001b[1;32m     74\u001b[0m         \u001b[39mbreak\u001b[39;00m\n",
      "File \u001b[0;32m~/Documents/cenit/repos/cora-simulator/simulator/engine/engine.py:111\u001b[0m, in \u001b[0;36mSimulationEngine._take_step\u001b[0;34m(self, step_size)\u001b[0m\n\u001b[1;32m    108\u001b[0m logger\u001b[39m.\u001b[39mdebug(\u001b[39mf\u001b[39m\u001b[39m\"\u001b[39m\u001b[39mtick=\u001b[39m\u001b[39m{\u001b[39;00m\u001b[39mself\u001b[39m\u001b[39m.\u001b[39m_state\u001b[39m.\u001b[39mget_tick()\u001b[39m}\u001b[39;00m\u001b[39m: begin\u001b[39m\u001b[39m\"\u001b[39m)\n\u001b[1;32m    110\u001b[0m actions_info, events_info \u001b[39m=\u001b[39m \u001b[39mself\u001b[39m\u001b[39m.\u001b[39m_state\u001b[39m.\u001b[39mtake_step(step_size)\n\u001b[0;32m--> 111\u001b[0m \u001b[39mself\u001b[39;49m\u001b[39m.\u001b[39;49m_log_step(actions_info, events_info)\n\u001b[1;32m    113\u001b[0m logger\u001b[39m.\u001b[39mdebug(\u001b[39mf\u001b[39m\u001b[39m\"\u001b[39m\u001b[39mtick=\u001b[39m\u001b[39m{\u001b[39;00m\u001b[39mself\u001b[39m\u001b[39m.\u001b[39m_state\u001b[39m.\u001b[39mget_tick()\u001b[39m}\u001b[39;00m\u001b[39m: done\u001b[39m\u001b[39m\"\u001b[39m)\n",
      "File \u001b[0;32m~/Documents/cenit/repos/cora-simulator/simulator/engine/engine.py:127\u001b[0m, in \u001b[0;36mSimulationEngine._log_step\u001b[0;34m(self, actions_info, events_info)\u001b[0m\n\u001b[1;32m    125\u001b[0m tick \u001b[39m=\u001b[39m \u001b[39mself\u001b[39m\u001b[39m.\u001b[39m_state\u001b[39m.\u001b[39mget_tick()\n\u001b[1;32m    126\u001b[0m timestamp \u001b[39m=\u001b[39m \u001b[39mself\u001b[39m\u001b[39m.\u001b[39m_state\u001b[39m.\u001b[39mget_datetime()\u001b[39m.\u001b[39mstrftime(\u001b[39m\"\u001b[39m\u001b[39m%\u001b[39m\u001b[39mY-\u001b[39m\u001b[39m%\u001b[39m\u001b[39mm-\u001b[39m\u001b[39m%d\u001b[39;00m\u001b[39m \u001b[39m\u001b[39m%\u001b[39m\u001b[39mH:\u001b[39m\u001b[39m%\u001b[39m\u001b[39mM:\u001b[39m\u001b[39m%\u001b[39m\u001b[39mS\u001b[39m\u001b[39m\"\u001b[39m)\n\u001b[0;32m--> 127\u001b[0m step_metrics \u001b[39m=\u001b[39m \u001b[39mself\u001b[39;49m\u001b[39m.\u001b[39;49m_metrics\u001b[39m.\u001b[39;49mby_step(\u001b[39mself\u001b[39;49m\u001b[39m.\u001b[39;49m_state)\n\u001b[1;32m    128\u001b[0m step_metrics \u001b[39m=\u001b[39m {\u001b[39m\"\u001b[39m\u001b[39mtick\u001b[39m\u001b[39m\"\u001b[39m: tick, \u001b[39m\"\u001b[39m\u001b[39mtimestamp\u001b[39m\u001b[39m\"\u001b[39m: timestamp, \u001b[39m*\u001b[39m\u001b[39m*\u001b[39mstep_metrics}\n\u001b[1;32m    129\u001b[0m \u001b[39mself\u001b[39m\u001b[39m.\u001b[39mresult_writer\u001b[39m.\u001b[39madd_step_metrics(step_metrics)\n",
      "File \u001b[0;32m~/Documents/cenit/repos/cora-simulator/protocols/cora/v1/metrics.py:106\u001b[0m, in \u001b[0;36mCoraMetrics.by_step\u001b[0;34m(cls, state)\u001b[0m\n\u001b[1;32m    104\u001b[0m run_delta \u001b[39m=\u001b[39m lending_pool\u001b[39m.\u001b[39m_running_period\n\u001b[1;32m    105\u001b[0m run_end \u001b[39m=\u001b[39m lending_pool\u001b[39m.\u001b[39m_next_cycle_time\n\u001b[0;32m--> 106\u001b[0m binned_metrics \u001b[39m=\u001b[39m \u001b[39mcls\u001b[39;49m\u001b[39m.\u001b[39;49m_get_binned_metrics(\n\u001b[1;32m    107\u001b[0m     active_loans, defaulted_loans, repaid_loans, loans, run_delta, run_end\n\u001b[1;32m    108\u001b[0m )\n\u001b[1;32m    110\u001b[0m \u001b[39mreturn\u001b[39;00m {\n\u001b[1;32m    111\u001b[0m     \u001b[39m\"\u001b[39m\u001b[39mcollateral_price\u001b[39m\u001b[39m\"\u001b[39m: collateral_price,\n\u001b[1;32m    112\u001b[0m     \u001b[39m\"\u001b[39m\u001b[39mpool_utilization\u001b[39m\u001b[39m\"\u001b[39m: lending_pool\u001b[39m.\u001b[39mget_current_utilization(),\n\u001b[0;32m   (...)\u001b[0m\n\u001b[1;32m    129\u001b[0m     \u001b[39m*\u001b[39m\u001b[39m*\u001b[39mbinned_metrics,\n\u001b[1;32m    130\u001b[0m }\n",
      "File \u001b[0;32m~/Documents/cenit/repos/cora-simulator/protocols/cora/v1/metrics.py:270\u001b[0m, in \u001b[0;36mCoraMetrics._get_binned_metrics\u001b[0;34m(cls, active_loans, defaulted_loans, repaid_loans, loans, run_delta, run_end)\u001b[0m\n\u001b[1;32m    261\u001b[0m loan_binners: List[MetricBinner] \u001b[39m=\u001b[39m [\n\u001b[1;32m    262\u001b[0m     MetricBinner(\u001b[39m\"\u001b[39m\u001b[39mltv\u001b[39m\u001b[39m\"\u001b[39m, \u001b[39mlambda\u001b[39;00m loan: loan\u001b[39m.\u001b[39minitial_ltv),\n\u001b[1;32m    263\u001b[0m     MetricBinner(\u001b[39m\"\u001b[39m\u001b[39mduration\u001b[39m\u001b[39m\"\u001b[39m, \u001b[39mlambda\u001b[39;00m loan: loan\u001b[39m.\u001b[39mget_duration() \u001b[39m/\u001b[39m run_delta),\n\u001b[1;32m    264\u001b[0m     MetricBinner(\u001b[39m\"\u001b[39m\u001b[39mstart\u001b[39m\u001b[39m\"\u001b[39m, \u001b[39mlambda\u001b[39;00m l: \u001b[39m1\u001b[39m \u001b[39m-\u001b[39m (run_end \u001b[39m-\u001b[39m l\u001b[39m.\u001b[39mstart_time) \u001b[39m/\u001b[39m run_delta),\n\u001b[1;32m    265\u001b[0m     MetricBinner(\u001b[39m\"\u001b[39m\u001b[39msize\u001b[39m\u001b[39m\"\u001b[39m, \u001b[39mlambda\u001b[39;00m loan: loan\u001b[39m.\u001b[39mnet_loan, \u001b[39mcls\u001b[39m\u001b[39m.\u001b[39mLOAN_SIZE_RANGES),\n\u001b[1;32m    266\u001b[0m ]\n\u001b[1;32m    267\u001b[0m active_loans_hists \u001b[39m=\u001b[39m apply_metric_binners(\n\u001b[1;32m    268\u001b[0m     active_loans, loan_binners, \u001b[39m\"\u001b[39m\u001b[39mhist-active_loans\u001b[39m\u001b[39m\"\u001b[39m\n\u001b[1;32m    269\u001b[0m )\n\u001b[0;32m--> 270\u001b[0m defaulted_loans_hists \u001b[39m=\u001b[39m apply_metric_binners(\n\u001b[1;32m    271\u001b[0m     defaulted_loans, loan_binners, \u001b[39m\"\u001b[39;49m\u001b[39mhist-defaulted_loans\u001b[39;49m\u001b[39m\"\u001b[39;49m\n\u001b[1;32m    272\u001b[0m )\n\u001b[1;32m    273\u001b[0m repaid_loans_hists \u001b[39m=\u001b[39m apply_metric_binners(\n\u001b[1;32m    274\u001b[0m     repaid_loans, loan_binners, \u001b[39m\"\u001b[39m\u001b[39mhist-repaid_loans\u001b[39m\u001b[39m\"\u001b[39m\n\u001b[1;32m    275\u001b[0m )\n\u001b[1;32m    276\u001b[0m loans_hists \u001b[39m=\u001b[39m apply_metric_binners(loans, loan_binners, \u001b[39m\"\u001b[39m\u001b[39mhist-loans\u001b[39m\u001b[39m\"\u001b[39m)\n",
      "File \u001b[0;32m~/Documents/cenit/repos/cora-simulator/simulator/metrics/calculations.py:63\u001b[0m, in \u001b[0;36mapply_metric_binners\u001b[0;34m(elements, binners, prefix, aggregator)\u001b[0m\n\u001b[1;32m     56\u001b[0m \u001b[39mdef\u001b[39;00m \u001b[39mapply_metric_binners\u001b[39m(\n\u001b[1;32m     57\u001b[0m     elements: Iterable[Element],\n\u001b[1;32m     58\u001b[0m     binners: Iterable[MetricBinner],\n\u001b[1;32m     59\u001b[0m     prefix: \u001b[39mstr\u001b[39m,\n\u001b[1;32m     60\u001b[0m     aggregator: Optional[Callable[[Iterable[Element]], \u001b[39mfloat\u001b[39m]] \u001b[39m=\u001b[39m \u001b[39mNone\u001b[39;00m,\n\u001b[1;32m     61\u001b[0m ):\n\u001b[1;32m     62\u001b[0m     \u001b[39mif\u001b[39;00m (aggregator \u001b[39mis\u001b[39;00m \u001b[39mNone\u001b[39;00m) \u001b[39mor\u001b[39;00m (aggregator \u001b[39mis\u001b[39;00m \u001b[39mlen\u001b[39m):\n\u001b[0;32m---> 63\u001b[0m         \u001b[39mreturn\u001b[39;00m {\n\u001b[1;32m     64\u001b[0m             \u001b[39mf\u001b[39m\u001b[39m\"\u001b[39m\u001b[39m{\u001b[39;00mprefix\u001b[39m}\u001b[39;00m\u001b[39m-\u001b[39m\u001b[39m{\u001b[39;00mk\u001b[39m}\u001b[39;00m\u001b[39m\"\u001b[39m: v \u001b[39mfor\u001b[39;00m b \u001b[39min\u001b[39;00m binners \u001b[39mfor\u001b[39;00m k, v \u001b[39min\u001b[39;00m b\u001b[39m.\u001b[39mcount(elements)\u001b[39m.\u001b[39mitems()\n\u001b[1;32m     65\u001b[0m         }\n\u001b[1;32m     67\u001b[0m     \u001b[39mreturn\u001b[39;00m {\n\u001b[1;32m     68\u001b[0m         \u001b[39mf\u001b[39m\u001b[39m\"\u001b[39m\u001b[39m{\u001b[39;00mprefix\u001b[39m}\u001b[39;00m\u001b[39m-\u001b[39m\u001b[39m{\u001b[39;00mk\u001b[39m}\u001b[39;00m\u001b[39m\"\u001b[39m: v\n\u001b[1;32m     69\u001b[0m         \u001b[39mfor\u001b[39;00m b \u001b[39min\u001b[39;00m binners\n\u001b[1;32m     70\u001b[0m         \u001b[39mfor\u001b[39;00m k, v \u001b[39min\u001b[39;00m b\u001b[39m.\u001b[39maggregate(elements, aggregator)\u001b[39m.\u001b[39mitems()\n\u001b[1;32m     71\u001b[0m     }\n",
      "File \u001b[0;32m~/Documents/cenit/repos/cora-simulator/simulator/metrics/calculations.py:64\u001b[0m, in \u001b[0;36m<dictcomp>\u001b[0;34m(.0)\u001b[0m\n\u001b[1;32m     56\u001b[0m \u001b[39mdef\u001b[39;00m \u001b[39mapply_metric_binners\u001b[39m(\n\u001b[1;32m     57\u001b[0m     elements: Iterable[Element],\n\u001b[1;32m     58\u001b[0m     binners: Iterable[MetricBinner],\n\u001b[1;32m     59\u001b[0m     prefix: \u001b[39mstr\u001b[39m,\n\u001b[1;32m     60\u001b[0m     aggregator: Optional[Callable[[Iterable[Element]], \u001b[39mfloat\u001b[39m]] \u001b[39m=\u001b[39m \u001b[39mNone\u001b[39;00m,\n\u001b[1;32m     61\u001b[0m ):\n\u001b[1;32m     62\u001b[0m     \u001b[39mif\u001b[39;00m (aggregator \u001b[39mis\u001b[39;00m \u001b[39mNone\u001b[39;00m) \u001b[39mor\u001b[39;00m (aggregator \u001b[39mis\u001b[39;00m \u001b[39mlen\u001b[39m):\n\u001b[1;32m     63\u001b[0m         \u001b[39mreturn\u001b[39;00m {\n\u001b[0;32m---> 64\u001b[0m             \u001b[39mf\u001b[39m\u001b[39m\"\u001b[39m\u001b[39m{\u001b[39;00mprefix\u001b[39m}\u001b[39;00m\u001b[39m-\u001b[39m\u001b[39m{\u001b[39;00mk\u001b[39m}\u001b[39;00m\u001b[39m\"\u001b[39m: v \u001b[39mfor\u001b[39;00m b \u001b[39min\u001b[39;00m binners \u001b[39mfor\u001b[39;00m k, v \u001b[39min\u001b[39;00m b\u001b[39m.\u001b[39;49mcount(elements)\u001b[39m.\u001b[39mitems()\n\u001b[1;32m     65\u001b[0m         }\n\u001b[1;32m     67\u001b[0m     \u001b[39mreturn\u001b[39;00m {\n\u001b[1;32m     68\u001b[0m         \u001b[39mf\u001b[39m\u001b[39m\"\u001b[39m\u001b[39m{\u001b[39;00mprefix\u001b[39m}\u001b[39;00m\u001b[39m-\u001b[39m\u001b[39m{\u001b[39;00mk\u001b[39m}\u001b[39;00m\u001b[39m\"\u001b[39m: v\n\u001b[1;32m     69\u001b[0m         \u001b[39mfor\u001b[39;00m b \u001b[39min\u001b[39;00m binners\n\u001b[1;32m     70\u001b[0m         \u001b[39mfor\u001b[39;00m k, v \u001b[39min\u001b[39;00m b\u001b[39m.\u001b[39maggregate(elements, aggregator)\u001b[39m.\u001b[39mitems()\n\u001b[1;32m     71\u001b[0m     }\n",
      "File \u001b[0;32m~/Documents/cenit/repos/cora-simulator/simulator/metrics/calculations.py:30\u001b[0m, in \u001b[0;36mMetricBinner.count\u001b[0;34m(self, elements)\u001b[0m\n\u001b[1;32m     28\u001b[0m \u001b[39mdef\u001b[39;00m \u001b[39mcount\u001b[39m(\u001b[39mself\u001b[39m, elements: Iterable[Element]) \u001b[39m-\u001b[39m\u001b[39m>\u001b[39m Dict[\u001b[39mstr\u001b[39m, \u001b[39mint\u001b[39m]:\n\u001b[1;32m     29\u001b[0m     distribution \u001b[39m=\u001b[39m np\u001b[39m.\u001b[39marray(\u001b[39mlist\u001b[39m(\u001b[39mmap\u001b[39m(\u001b[39mself\u001b[39m\u001b[39m.\u001b[39mdistfunc, elements)))\n\u001b[0;32m---> 30\u001b[0m     histogram \u001b[39m=\u001b[39m np\u001b[39m.\u001b[39;49mhistogram(distribution, bins\u001b[39m=\u001b[39;49m\u001b[39mself\u001b[39;49m\u001b[39m.\u001b[39;49mbins)[\u001b[39m0\u001b[39m]\n\u001b[1;32m     31\u001b[0m     \u001b[39mreturn\u001b[39;00m {\n\u001b[1;32m     32\u001b[0m         \u001b[39mf\u001b[39m\u001b[39m\"\u001b[39m\u001b[39m{\u001b[39;00m\u001b[39mself\u001b[39m\u001b[39m.\u001b[39mname\u001b[39m}\u001b[39;00m\u001b[39m_\u001b[39m\u001b[39m{\u001b[39;00mbin_start\u001b[39m}\u001b[39;00m\u001b[39m_\u001b[39m\u001b[39m{\u001b[39;00mbin_end\u001b[39m}\u001b[39;00m\u001b[39m\"\u001b[39m: \u001b[39mint\u001b[39m(count)\n\u001b[1;32m     33\u001b[0m         \u001b[39mfor\u001b[39;00m bin_start, bin_end, count \u001b[39min\u001b[39;00m \u001b[39mzip\u001b[39m(\n\u001b[1;32m     34\u001b[0m             \u001b[39mself\u001b[39m\u001b[39m.\u001b[39mbins[:\u001b[39m-\u001b[39m\u001b[39m1\u001b[39m], \u001b[39mself\u001b[39m\u001b[39m.\u001b[39mbins[\u001b[39m1\u001b[39m:], histogram\n\u001b[1;32m     35\u001b[0m         )\n\u001b[1;32m     36\u001b[0m     }\n",
      "File \u001b[0;32m<__array_function__ internals>:180\u001b[0m, in \u001b[0;36mhistogram\u001b[0;34m(*args, **kwargs)\u001b[0m\n",
      "File \u001b[0;32m~/.local/share/virtualenvs/cora-simulator-xnZT5TDi/lib/python3.9/site-packages/numpy/lib/histograms.py:892\u001b[0m, in \u001b[0;36mhistogram\u001b[0;34m(a, bins, range, normed, weights, density)\u001b[0m\n\u001b[1;32m    889\u001b[0m             bin_index \u001b[39m=\u001b[39m _search_sorted_inclusive(sa, bin_edges)\n\u001b[1;32m    890\u001b[0m             cum_n \u001b[39m+\u001b[39m\u001b[39m=\u001b[39m cw[bin_index]\n\u001b[0;32m--> 892\u001b[0m     n \u001b[39m=\u001b[39m np\u001b[39m.\u001b[39;49mdiff(cum_n)\n\u001b[1;32m    894\u001b[0m \u001b[39m# density overrides the normed keyword\u001b[39;00m\n\u001b[1;32m    895\u001b[0m \u001b[39mif\u001b[39;00m density \u001b[39mis\u001b[39;00m \u001b[39mnot\u001b[39;00m \u001b[39mNone\u001b[39;00m:\n",
      "File \u001b[0;32m<__array_function__ internals>:180\u001b[0m, in \u001b[0;36mdiff\u001b[0;34m(*args, **kwargs)\u001b[0m\n",
      "File \u001b[0;32m~/.local/share/virtualenvs/cora-simulator-xnZT5TDi/lib/python3.9/site-packages/numpy/lib/function_base.py:1319\u001b[0m, in \u001b[0;36mdiff\u001b[0;34m(a, n, axis, prepend, append)\u001b[0m\n\u001b[1;32m   1315\u001b[0m \u001b[39mdef\u001b[39;00m \u001b[39m_diff_dispatcher\u001b[39m(a, n\u001b[39m=\u001b[39m\u001b[39mNone\u001b[39;00m, axis\u001b[39m=\u001b[39m\u001b[39mNone\u001b[39;00m, prepend\u001b[39m=\u001b[39m\u001b[39mNone\u001b[39;00m, append\u001b[39m=\u001b[39m\u001b[39mNone\u001b[39;00m):\n\u001b[1;32m   1316\u001b[0m     \u001b[39mreturn\u001b[39;00m (a, prepend, append)\n\u001b[0;32m-> 1319\u001b[0m \u001b[39m@array_function_dispatch\u001b[39m(_diff_dispatcher)\n\u001b[1;32m   1320\u001b[0m \u001b[39mdef\u001b[39;00m \u001b[39mdiff\u001b[39m(a, n\u001b[39m=\u001b[39m\u001b[39m1\u001b[39m, axis\u001b[39m=\u001b[39m\u001b[39m-\u001b[39m\u001b[39m1\u001b[39m, prepend\u001b[39m=\u001b[39mnp\u001b[39m.\u001b[39m_NoValue, append\u001b[39m=\u001b[39mnp\u001b[39m.\u001b[39m_NoValue):\n\u001b[1;32m   1321\u001b[0m     \u001b[39m\"\"\"\u001b[39;00m\n\u001b[1;32m   1322\u001b[0m \u001b[39m    Calculate the n-th discrete difference along the given axis.\u001b[39;00m\n\u001b[1;32m   1323\u001b[0m \n\u001b[0;32m   (...)\u001b[0m\n\u001b[1;32m   1402\u001b[0m \n\u001b[1;32m   1403\u001b[0m \u001b[39m    \"\"\"\u001b[39;00m\n\u001b[1;32m   1404\u001b[0m     \u001b[39mif\u001b[39;00m n \u001b[39m==\u001b[39m \u001b[39m0\u001b[39m:\n",
      "\u001b[0;31mKeyboardInterrupt\u001b[0m: "
     ]
    }
   ],
   "source": [
    "for max_ltv in max_ltv_options[::-1]:\n",
    "    for up in utilization_param_options:\n",
    "        #try:\n",
    "            name = folder + f\"montecarlo_kelly_ltv{str(max_ltv).replace('.', '_')}_up{str(up).replace('.', '_')}_x{num_randoms}.csv\"\n",
    "            if Path(name).exists():\n",
    "                continue\n",
    "\n",
    "            print(f\"Starting with ltv {max_ltv} up {up}\")\n",
    "            study_results = generate_study_lowmem(\n",
    "                ltv=max_ltv,\n",
    "                fee_model=\"cached_kelly\",\n",
    "                fee_model_update_params={\n",
    "                    \"lookback_days\": 365,\n",
    "                    \"ltv_values\": [0.1, 0.15, 0.2, 0.25, 0.3, 0.35, 0.4, 0.45, 0.5, 0.55, 0.6, 0.65, 0.7, 0.75, 0.8, 0.85, 0.9],\n",
    "                    \"max_expiration_days\": 30,\n",
    "                },                \n",
    "                utilization_param_array = [up],\n",
    "                loan_start_type_options = [start_type],\n",
    "                loan_duration_type_options = [duration_type],\n",
    "                num_randoms = num_randoms,\n",
    "                random_seed = 0,\n",
    "            )\n",
    "            study_results.to_csv(name)\n",
    "            print(f\"Done with ltv {max_ltv} up {up}\")\n",
    "        #except Exception as e:\n",
    "        #    print(f\"LTV {max_ltv} , UP {up} failed: {e}, {e.args}\")"
   ]
  },
  {
   "cell_type": "code",
   "execution_count": null,
   "metadata": {},
   "outputs": [],
   "source": []
  }
 ],
 "metadata": {
  "kernelspec": {
   "display_name": "Python 3.9.6 ('cora-simulator-_lkcSt-h')",
   "language": "python",
   "name": "python3"
  },
  "language_info": {
   "codemirror_mode": {
    "name": "ipython",
    "version": 3
   },
   "file_extension": ".py",
   "mimetype": "text/x-python",
   "name": "python",
   "nbconvert_exporter": "python",
   "pygments_lexer": "ipython3",
   "version": "3.9.6"
  },
  "orig_nbformat": 4,
  "vscode": {
   "interpreter": {
    "hash": "6229e8f82e1fdc62c6ae6504d8ee4c0aa161c3458403ca3b31d47cf5269ae335"
   }
  }
 },
 "nbformat": 4,
 "nbformat_minor": 2
}
